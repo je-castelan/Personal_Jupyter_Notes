{
 "cells": [
  {
   "cell_type": "markdown",
   "metadata": {},
   "source": [
    "# Tree"
   ]
  },
  {
   "cell_type": "markdown",
   "metadata": {},
   "source": [
    "Tree is a connected aciclyc undirected graph"
   ]
  },
  {
   "cell_type": "markdown",
   "metadata": {},
   "source": [
    "## m-ary trees"
   ]
  },
  {
   "cell_type": "markdown",
   "metadata": {},
   "source": [
    "Every internal vertex of the tree has no more tham m children.\n",
    "\n",
    "The most popular is binary tree. In this case, every node can have 2 or less childrens."
   ]
  },
  {
   "cell_type": "markdown",
   "metadata": {},
   "source": [
    "## Terminology"
   ]
  },
  {
   "cell_type": "markdown",
   "metadata": {},
   "source": [
    " - **path**: Sequence of nodes connected together in a tree.\n",
    " - **parent**: Node above another node connected by its edge.\n",
    " - **child**: Node below another node connected by its edge.\n",
    " - **root**: Node at the top of the tree (there is only one in thee tree, so root has not parents).\n",
    " - **leaf node**: A node with no children nodes.\n",
    " - **tree height**: The number of edges on the longest downward path between node and a leaf"
   ]
  },
  {
   "cell_type": "markdown",
   "metadata": {},
   "source": [
    "## Balanced binay trees"
   ]
  },
  {
   "cell_type": "markdown",
   "metadata": {},
   "source": [
    " - All leafs are on the same level\n",
    " - All subtrees have same height"
   ]
  },
  {
   "cell_type": "markdown",
   "metadata": {},
   "source": [
    "# Implement binary tree"
   ]
  },
  {
   "cell_type": "markdown",
   "metadata": {},
   "source": [
    "First, we implement a node"
   ]
  },
  {
   "cell_type": "code",
   "execution_count": 4,
   "metadata": {},
   "outputs": [],
   "source": [
    "class Node:\n",
    "    def __init__(self,value):\n",
    "        self.left = None\n",
    "        self.right = None\n",
    "        self.data = value"
   ]
  },
  {
   "cell_type": "markdown",
   "metadata": {},
   "source": [
    "We will make someting like this\n",
    "\n",
    "           4\n",
    "         /   \\\n",
    "        5     6\n",
    "      /   \\\n",
    "     7"
   ]
  },
  {
   "cell_type": "code",
   "execution_count": 5,
   "metadata": {},
   "outputs": [],
   "source": [
    "root = Node (4)\n",
    "root.left = Node(5)\n",
    "root.right = Node(6)\n",
    "root.left.left = Node(7)"
   ]
  },
  {
   "cell_type": "markdown",
   "metadata": {},
   "source": [
    "# Printing tree"
   ]
  },
  {
   "cell_type": "markdown",
   "metadata": {},
   "source": [
    "## In-order transversal"
   ]
  },
  {
   "cell_type": "markdown",
   "metadata": {},
   "source": [
    "The order of checking this tree is \"left - root - right\" order"
   ]
  },
  {
   "cell_type": "code",
   "execution_count": 6,
   "metadata": {},
   "outputs": [],
   "source": [
    "def in_order_transveral(node):\n",
    "    if node.left:\n",
    "        in_order_transveral(node.left)\n",
    "    print(node.data, end=\" \")\n",
    "    if node.right:\n",
    "        in_order_transveral(node.right)"
   ]
  },
  {
   "cell_type": "code",
   "execution_count": 7,
   "metadata": {},
   "outputs": [
    {
     "name": "stdout",
     "output_type": "stream",
     "text": [
      "7 5 4 6 "
     ]
    }
   ],
   "source": [
    "in_order_transveral(root)"
   ]
  },
  {
   "cell_type": "markdown",
   "metadata": {},
   "source": [
    "## Preorder transversal"
   ]
  },
  {
   "cell_type": "markdown",
   "metadata": {},
   "source": [
    "The order of checking this tree is \"root - left - right\" order"
   ]
  },
  {
   "cell_type": "code",
   "execution_count": 8,
   "metadata": {},
   "outputs": [],
   "source": [
    "def pre_order_transveral(node):\n",
    "    print(node.data, end=\" \")\n",
    "    if node.left:\n",
    "        pre_order_transveral(node.left)\n",
    "    if node.right:\n",
    "        pre_order_transveral(node.right)"
   ]
  },
  {
   "cell_type": "code",
   "execution_count": 9,
   "metadata": {},
   "outputs": [
    {
     "name": "stdout",
     "output_type": "stream",
     "text": [
      "4 5 7 6 "
     ]
    }
   ],
   "source": [
    "pre_order_transveral(root)"
   ]
  },
  {
   "cell_type": "markdown",
   "metadata": {},
   "source": [
    "## Post order transversal"
   ]
  },
  {
   "cell_type": "markdown",
   "metadata": {},
   "source": [
    "The order of checking this tree is \"left - right - root\" order"
   ]
  },
  {
   "cell_type": "code",
   "execution_count": 10,
   "metadata": {},
   "outputs": [],
   "source": [
    "def post_order_transveral(node):\n",
    "    if node.left:\n",
    "        post_order_transveral(node.left)\n",
    "    if node.right:\n",
    "        post_order_transveral(node.right)\n",
    "    print(node.data, end=\" \")"
   ]
  },
  {
   "cell_type": "code",
   "execution_count": 11,
   "metadata": {},
   "outputs": [
    {
     "name": "stdout",
     "output_type": "stream",
     "text": [
      "7 5 6 4 "
     ]
    }
   ],
   "source": [
    "post_order_transveral(root)"
   ]
  },
  {
   "cell_type": "markdown",
   "metadata": {},
   "source": [
    "## Conclusion"
   ]
  },
  {
   "cell_type": "markdown",
   "metadata": {},
   "source": [
    "           10\n",
    "         /   \\\n",
    "        20     12\n",
    "      /   \\\n",
    "     3     8"
   ]
  },
  {
   "cell_type": "code",
   "execution_count": 12,
   "metadata": {},
   "outputs": [],
   "source": [
    "root2 = Node(10)\n",
    "root2.left = Node(20)\n",
    "root2.right = Node(12)\n",
    "root2.left.left = Node(3)\n",
    "root2.left.right = Node(8)"
   ]
  },
  {
   "cell_type": "code",
   "execution_count": 13,
   "metadata": {},
   "outputs": [
    {
     "name": "stdout",
     "output_type": "stream",
     "text": [
      "\n",
      "Inorder\n",
      "3 20 8 10 12 \n",
      "Preorder\n",
      "10 20 3 8 12 \n",
      "Postorder\n",
      "3 8 20 12 10 "
     ]
    }
   ],
   "source": [
    "print(\"\\nInorder\")\n",
    "in_order_transveral(root2)\n",
    "print(\"\\nPreorder\")\n",
    "pre_order_transveral(root2)\n",
    "print(\"\\nPostorder\")\n",
    "post_order_transveral(root2)\n"
   ]
  },
  {
   "cell_type": "code",
   "execution_count": 14,
   "metadata": {},
   "outputs": [],
   "source": [
    "root3 = Node(3)\n",
    "root3.left = Node(5)\n",
    "root3.right = Node(1)\n",
    "root3.left.left = Node(6)\n",
    "root3.left.right = Node(2)\n",
    "root3.left.right.left = Node(7)\n",
    "root3.left.right.right = Node(4)\n",
    "root3.right.left = Node(0)\n",
    "root3.right.right = Node(8)"
   ]
  },
  {
   "cell_type": "code",
   "execution_count": 15,
   "metadata": {},
   "outputs": [
    {
     "name": "stdout",
     "output_type": "stream",
     "text": [
      "\n",
      "Inorder\n",
      "6 5 7 2 4 3 0 1 8 \n",
      "Preorder\n",
      "3 5 6 2 7 4 1 0 8 \n",
      "Postorder\n",
      "6 7 4 2 5 0 8 1 3 "
     ]
    }
   ],
   "source": [
    "print(\"\\nInorder\")\n",
    "in_order_transveral(root3)\n",
    "print(\"\\nPreorder\")\n",
    "pre_order_transveral(root3)\n",
    "print(\"\\nPostorder\")\n",
    "post_order_transveral(root3)"
   ]
  },
  {
   "cell_type": "code",
   "execution_count": null,
   "metadata": {},
   "outputs": [],
   "source": []
  }
 ],
 "metadata": {
  "kernelspec": {
   "display_name": "Python 3",
   "language": "python",
   "name": "python3"
  },
  "language_info": {
   "codemirror_mode": {
    "name": "ipython",
    "version": 3
   },
   "file_extension": ".py",
   "mimetype": "text/x-python",
   "name": "python",
   "nbconvert_exporter": "python",
   "pygments_lexer": "ipython3",
   "version": "3.8.6"
  }
 },
 "nbformat": 4,
 "nbformat_minor": 4
}
