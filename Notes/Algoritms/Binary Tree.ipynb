{
 "cells": [
  {
   "cell_type": "markdown",
   "metadata": {},
   "source": [
    "# Binary Tree"
   ]
  },
  {
   "cell_type": "markdown",
   "metadata": {},
   "source": [
    " -  Binary tree's left subtree of a node have values lower than or equal to the node.\n",
    " -  Binary tree's right subtree of a node have values bigger than to the node.\n"
   ]
  },
  {
   "cell_type": "markdown",
   "metadata": {},
   "source": [
    "It's mainly used for search (from root, we move to left if searched value is lower, and move to right if value is higher)."
   ]
  },
  {
   "cell_type": "markdown",
   "metadata": {},
   "source": [
    "In the case to add a node, we need to always remembers the properties axplained above."
   ]
  },
  {
   "cell_type": "markdown",
   "metadata": {},
   "source": [
    "There are 3 cases to analyse when you deletre.\n",
    "\n",
    "- If node is a leaf, we just only delete it.\n",
    "- If we need to delete a node with a child, we asign the parent to the child.\n",
    "- If we need to delete a node with two children, you need to reasign the minium node of the right side on the place of the deleted node."
   ]
  },
  {
   "cell_type": "markdown",
   "metadata": {},
   "source": [
    "## Creating binary search"
   ]
  },
  {
   "cell_type": "markdown",
   "metadata": {},
   "source": [
    "First, create the node"
   ]
  },
  {
   "cell_type": "code",
   "execution_count": 69,
   "metadata": {},
   "outputs": [],
   "source": [
    "class Node:\n",
    "    def __init__(self, value):\n",
    "        self.value = value\n",
    "        self.left = None\n",
    "        self.right = None"
   ]
  },
  {
   "cell_type": "markdown",
   "metadata": {},
   "source": [
    "Let's insert a node in a binary tree."
   ]
  },
  {
   "cell_type": "code",
   "execution_count": 128,
   "metadata": {},
   "outputs": [],
   "source": [
    "class BinaryTree:\n",
    "    def __init__(self, root):\n",
    "        self.root = root\n",
    "    \n",
    "    def insert(self,node):\n",
    "        pointer = self.root\n",
    "        inserted = False\n",
    "        while not inserted:\n",
    "            if pointer.value > node.value:\n",
    "                if not pointer.left:\n",
    "                    pointer.left = node\n",
    "                    inserted = True\n",
    "                else:\n",
    "                    pointer = pointer.left\n",
    "            else:\n",
    "                if not pointer.right:\n",
    "                    pointer.right = node\n",
    "                    inserted = True\n",
    "                else:\n",
    "                    pointer = pointer.right\n",
    "\n",
    "    def preorder(self, node):\n",
    "        if node is not None:\n",
    "            print(\"{}\".format(node.value), end = \" \")\n",
    "            self.preorder(node.left)\n",
    "            self.preorder(node.right)\n",
    "\n",
    "    def inorder(self, node):\n",
    "        if node is not None:\n",
    "            self.inorder(node.left)\n",
    "            print(\"{}\".format(node.value), end = \" \")\n",
    "            self.inorder(node.right)"
   ]
  },
  {
   "cell_type": "code",
   "execution_count": 129,
   "metadata": {},
   "outputs": [
    {
     "name": "stdout",
     "output_type": "stream",
     "text": [
      "13 "
     ]
    }
   ],
   "source": [
    "bt = BinaryTree(Node(13))\n",
    "bt.preorder(bt.root)"
   ]
  },
  {
   "cell_type": "code",
   "execution_count": 130,
   "metadata": {},
   "outputs": [
    {
     "name": "stdout",
     "output_type": "stream",
     "text": [
      "13 8 "
     ]
    }
   ],
   "source": [
    "bt.insert(Node(8))\n",
    "bt.preorder(bt.root)"
   ]
  },
  {
   "cell_type": "code",
   "execution_count": 131,
   "metadata": {},
   "outputs": [
    {
     "name": "stdout",
     "output_type": "stream",
     "text": [
      "13 8 7 "
     ]
    }
   ],
   "source": [
    "bt.insert(Node(7))\n",
    "bt.preorder(bt.root)"
   ]
  },
  {
   "cell_type": "code",
   "execution_count": 132,
   "metadata": {},
   "outputs": [
    {
     "name": "stdout",
     "output_type": "stream",
     "text": [
      "13 8 7 16 "
     ]
    }
   ],
   "source": [
    "bt.insert(Node(16))\n",
    "bt.preorder(bt.root)"
   ]
  },
  {
   "cell_type": "code",
   "execution_count": 133,
   "metadata": {},
   "outputs": [
    {
     "name": "stdout",
     "output_type": "stream",
     "text": [
      "13 8 7 16 14 "
     ]
    }
   ],
   "source": [
    "bt.insert(Node(14))\n",
    "bt.preorder(bt.root)"
   ]
  },
  {
   "cell_type": "code",
   "execution_count": 134,
   "metadata": {},
   "outputs": [
    {
     "name": "stdout",
     "output_type": "stream",
     "text": [
      "13 8 7 16 14 15 "
     ]
    }
   ],
   "source": [
    "bt.insert(Node(15))\n",
    "bt.preorder(bt.root)"
   ]
  },
  {
   "cell_type": "markdown",
   "metadata": {},
   "source": [
    "Then, we will implement the searching"
   ]
  },
  {
   "cell_type": "code",
   "execution_count": 135,
   "metadata": {},
   "outputs": [],
   "source": [
    "class BinaryTree(BinaryTree):\n",
    "    def search(self, key):\n",
    "        pointer = self.root\n",
    "        while pointer:\n",
    "            if pointer.value == key:\n",
    "                return True\n",
    "            elif key < pointer.value:\n",
    "                pointer = pointer.left\n",
    "            else:\n",
    "                pointer = pointer.right\n",
    "        return False"
   ]
  },
  {
   "cell_type": "code",
   "execution_count": 136,
   "metadata": {},
   "outputs": [
    {
     "name": "stdout",
     "output_type": "stream",
     "text": [
      "13 8 7 16 14 15 "
     ]
    }
   ],
   "source": [
    "bt = BinaryTree(Node(13))\n",
    "bt.insert(Node(8))\n",
    "bt.insert(Node(7))\n",
    "bt.insert(Node(16))\n",
    "bt.insert(Node(14))\n",
    "bt.insert(Node(15))\n",
    "bt.preorder(bt.root)"
   ]
  },
  {
   "cell_type": "code",
   "execution_count": 137,
   "metadata": {},
   "outputs": [
    {
     "data": {
      "text/plain": [
       "True"
      ]
     },
     "execution_count": 137,
     "metadata": {},
     "output_type": "execute_result"
    }
   ],
   "source": [
    "bt.search(14)"
   ]
  },
  {
   "cell_type": "code",
   "execution_count": 138,
   "metadata": {},
   "outputs": [
    {
     "data": {
      "text/plain": [
       "False"
      ]
     },
     "execution_count": 138,
     "metadata": {},
     "output_type": "execute_result"
    }
   ],
   "source": [
    "bt.search(6)"
   ]
  },
  {
   "cell_type": "markdown",
   "metadata": {},
   "source": [
    "And now, there is the deletion function."
   ]
  },
  {
   "cell_type": "code",
   "execution_count": 139,
   "metadata": {},
   "outputs": [],
   "source": [
    "class BinaryTree(BinaryTree):\n",
    "    \n",
    "    def __minvalue(self, node):\n",
    "        pointer = node\n",
    "        while pointer.left:\n",
    "            pointer = pointer.left\n",
    "        return pointer\n",
    "    \n",
    "    def delete(self, key):\n",
    "        parent = self.root\n",
    "        pointer = self.root\n",
    "        while pointer:\n",
    "            if pointer.value == key: #We find the value here!!!\n",
    "                if not pointer.left and not pointer.right:\n",
    "                    parent.left = parent.left if pointer.value > parent.value else None\n",
    "                    parent.right = parent.right if pointer.value < parent.value else None\n",
    "                    return True\n",
    "                else:\n",
    "                    if pointer.left and not pointer.right:\n",
    "                        tmp = pointer.left\n",
    "                        parent.left = parent.left if pointer.value > parent.value else tmp\n",
    "                        parent.right = parent.right if pointer.value < parent.value else tmp\n",
    "                        return True\n",
    "                    elif not pointer.left and pointer.right:\n",
    "                        tmp = pointer.right\n",
    "                        parent.left = parent.left if pointer.value > parent.value else tmp\n",
    "                        parent.right = parent.right if pointer.value < parent.value else tmp\n",
    "                        return True\n",
    "                    else: \n",
    "                        tmp = self.__minvalue(pointer.right)\n",
    "                        parent.left = parent.left if pointer.value > parent.value else tmp\n",
    "                        parent.right = parent.right if pointer.value < parent.value else tmp\n",
    "                        return True\n",
    "            elif key < pointer.value:\n",
    "                parent = pointer\n",
    "                pointer = pointer.left\n",
    "            else:\n",
    "                parent = pointer\n",
    "                pointer = pointer.right\n",
    "        return False"
   ]
  },
  {
   "cell_type": "code",
   "execution_count": 156,
   "metadata": {},
   "outputs": [
    {
     "name": "stdout",
     "output_type": "stream",
     "text": [
      "7 8 16 17 19 20 21 23 "
     ]
    }
   ],
   "source": [
    "bt = BinaryTree(Node(16))\n",
    "bt.insert(Node(8))\n",
    "bt.insert(Node(7))\n",
    "bt.insert(Node(23))\n",
    "bt.insert(Node(17))\n",
    "bt.insert(Node(19))\n",
    "bt.insert(Node(20))\n",
    "bt.insert(Node(21))\n",
    "bt.inorder(bt.root)"
   ]
  },
  {
   "cell_type": "code",
   "execution_count": 157,
   "metadata": {},
   "outputs": [
    {
     "name": "stdout",
     "output_type": "stream",
     "text": [
      "8 16 17 19 20 21 23 "
     ]
    }
   ],
   "source": [
    "bt.delete(7)\n",
    "bt.inorder(bt.root)"
   ]
  },
  {
   "cell_type": "code",
   "execution_count": 158,
   "metadata": {},
   "outputs": [
    {
     "name": "stdout",
     "output_type": "stream",
     "text": [
      "7 8 16 17 19 20 21 23 "
     ]
    }
   ],
   "source": [
    "bt.insert(Node(7))\n",
    "bt.inorder(bt.root)"
   ]
  },
  {
   "cell_type": "code",
   "execution_count": 159,
   "metadata": {},
   "outputs": [
    {
     "name": "stdout",
     "output_type": "stream",
     "text": [
      "7 16 17 19 20 21 23 "
     ]
    }
   ],
   "source": [
    "bt.delete(8)\n",
    "bt.inorder(bt.root)"
   ]
  },
  {
   "cell_type": "code",
   "execution_count": 160,
   "metadata": {},
   "outputs": [
    {
     "name": "stdout",
     "output_type": "stream",
     "text": [
      "7 16 19 20 21 23 "
     ]
    }
   ],
   "source": [
    "bt.delete(17)\n",
    "bt.inorder(bt.root)"
   ]
  },
  {
   "cell_type": "code",
   "execution_count": null,
   "metadata": {},
   "outputs": [],
   "source": []
  }
 ],
 "metadata": {
  "kernelspec": {
   "display_name": "Python 3",
   "language": "python",
   "name": "python3"
  },
  "language_info": {
   "codemirror_mode": {
    "name": "ipython",
    "version": 3
   },
   "file_extension": ".py",
   "mimetype": "text/x-python",
   "name": "python",
   "nbconvert_exporter": "python",
   "pygments_lexer": "ipython3",
   "version": "3.8.6"
  }
 },
 "nbformat": 4,
 "nbformat_minor": 4
}
