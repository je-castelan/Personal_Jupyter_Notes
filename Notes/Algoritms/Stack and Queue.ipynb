{
 "cells": [
  {
   "cell_type": "markdown",
   "metadata": {},
   "source": [
    "## Stack and Queue"
   ]
  },
  {
   "cell_type": "markdown",
   "metadata": {},
   "source": [
    "Stacks are arrays which works with LIFO logic (last input, first output)."
   ]
  },
  {
   "cell_type": "markdown",
   "metadata": {},
   "source": [
    "Implementing stack, we can set a limit to the stack on the constructor.\n",
    "We will need the following functions.\n",
    " - Push: Insert a new element to the top of the stack\n",
    " - Pop: Remove the last element inserted\n",
    " - Top: Return the element on the top"
   ]
  },
  {
   "cell_type": "code",
   "execution_count": 4,
   "metadata": {},
   "outputs": [],
   "source": [
    "class Stack:\n",
    "    def __init__(self, size):\n",
    "        self.size = size\n",
    "        self.elements = []\n",
    "\n",
    "    def push(self, value):\n",
    "        if len(self.elements) == self.size:\n",
    "            return False\n",
    "        self.elements.append(value)\n",
    "        return  True\n",
    "    \n",
    "    def top(self):\n",
    "        if len(self.elements) == 0:\n",
    "            return None\n",
    "        return self.elements[-1]\n",
    "\n",
    "    def pop(self):\n",
    "        if len(self.elements) == 0:\n",
    "            return False\n",
    "        self.elements.pop()\n",
    "        return True"
   ]
  },
  {
   "cell_type": "code",
   "execution_count": 5,
   "metadata": {},
   "outputs": [
    {
     "name": "stdout",
     "output_type": "stream",
     "text": [
      "a\n",
      "b\n",
      "c\n",
      "c\n",
      "b\n",
      "d\n",
      "b\n",
      "a\n",
      "None\n",
      "None\n"
     ]
    }
   ],
   "source": [
    "s = Stack(3)\n",
    "s.push(\"a\")\n",
    "print(s.top())\n",
    "s.push(\"b\")\n",
    "print(s.top())\n",
    "s.push(\"c\")\n",
    "print(s.top())\n",
    "s.push(\"d\")\n",
    "print(s.top())\n",
    "s.pop()\n",
    "print(s.top())\n",
    "s.push(\"d\")\n",
    "print(s.top())\n",
    "s.pop()\n",
    "print(s.top())\n",
    "s.pop()\n",
    "print(s.top())\n",
    "s.pop()\n",
    "print(s.top())\n",
    "s.pop()\n",
    "print(s.top())"
   ]
  },
  {
   "cell_type": "markdown",
   "metadata": {},
   "source": [
    "A queue works with a FIFO logic (first input first output)."
   ]
  },
  {
   "cell_type": "markdown",
   "metadata": {},
   "source": [
    "We will need to implement the following functions:\n",
    " - Enqueue: Inserting a new element at the end of the queue.\n",
    " - Dequeue: Remove the element on the front of the queue.\n",
    " - Front: Show the element on the front of the queue "
   ]
  },
  {
   "cell_type": "code",
   "execution_count": 6,
   "metadata": {},
   "outputs": [],
   "source": [
    "class Queue:\n",
    "    def __init__(self):\n",
    "        self.values = []\n",
    "    \n",
    "    def enqueue(self, value):\n",
    "        self.values.append(value)\n",
    "\n",
    "    def front(self):\n",
    "        return self.values[0] if len(self.values) > 0 else None\n",
    "    \n",
    "    def dequeue(self):\n",
    "        value = None\n",
    "        if len(self.values) > 0:\n",
    "            value = self.values[0]\n",
    "            self.values.pop(0)\n",
    "        return value"
   ]
  },
  {
   "cell_type": "code",
   "execution_count": 7,
   "metadata": {},
   "outputs": [
    {
     "name": "stdout",
     "output_type": "stream",
     "text": [
      "a\n",
      "a\n",
      "a\n",
      "b\n",
      "c\n",
      "c\n",
      "d\n",
      "None\n"
     ]
    }
   ],
   "source": [
    "q = Queue()\n",
    "q.enqueue(\"a\")\n",
    "print(q.front())\n",
    "q.enqueue(\"b\")\n",
    "print(q.front())\n",
    "q.enqueue(\"c\")\n",
    "print(q.front())\n",
    "q.dequeue()\n",
    "print(q.front())\n",
    "q.dequeue()\n",
    "print(q.front())\n",
    "q.enqueue(\"d\")\n",
    "print(q.front())\n",
    "q.dequeue()\n",
    "print(q.front())\n",
    "q.dequeue()\n",
    "print(q.front())"
   ]
  },
  {
   "cell_type": "code",
   "execution_count": null,
   "metadata": {},
   "outputs": [],
   "source": []
  }
 ],
 "metadata": {
  "kernelspec": {
   "display_name": "Python 3",
   "language": "python",
   "name": "python3"
  },
  "language_info": {
   "codemirror_mode": {
    "name": "ipython",
    "version": 3
   },
   "file_extension": ".py",
   "mimetype": "text/x-python",
   "name": "python",
   "nbconvert_exporter": "python",
   "pygments_lexer": "ipython3",
   "version": "3.8.6"
  }
 },
 "nbformat": 4,
 "nbformat_minor": 4
}
