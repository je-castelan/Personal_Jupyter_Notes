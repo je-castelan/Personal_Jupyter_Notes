{
 "cells": [
  {
   "cell_type": "markdown",
   "metadata": {},
   "source": [
    "# Búsqueda binaria"
   ]
  },
  {
   "cell_type": "markdown",
   "metadata": {},
   "source": [
    "Algoritmo de complejidad de tiempo O(log n) y de almacenamiento O(n)"
   ]
  },
  {
   "cell_type": "code",
   "execution_count": 13,
   "metadata": {},
   "outputs": [],
   "source": [
    "def binarySearchWhile(arr, target):\n",
    "    left = 0\n",
    "    right = len(arr)-1\n",
    "    while left <= right:\n",
    "        mid = (left+right)//2\n",
    "        if arr[mid] == target:\n",
    "            return mid\n",
    "        elif arr[mid] < target:\n",
    "            left = mid + 1\n",
    "        else:\n",
    "            right = mid - 1\n",
    "    return -1"
   ]
  },
  {
   "cell_type": "code",
   "execution_count": 14,
   "metadata": {},
   "outputs": [],
   "source": [
    "def binarySearchRecursive(arr,obj,initial,final):\n",
    "    middle = (initial+final) // 2\n",
    "    if arr[middle] == obj:\n",
    "        return middle\n",
    "    elif initial > final:\n",
    "        return -1\n",
    "    elif arr[middle] < obj:\n",
    "        return binarySearchRecursive(arr,obj,middle + 1,final)\n",
    "    else:\n",
    "        return binarySearchRecursive(arr,obj,initial,middle - 1)"
   ]
  },
  {
   "cell_type": "code",
   "execution_count": 15,
   "metadata": {},
   "outputs": [
    {
     "name": "stdout",
     "output_type": "stream",
     "text": [
      "BUSQUEDA BINARIA CON RECURSIVIDAD DE 18 EN [11, 12, 14, 15, 16, 17, 18] ES 6\n",
      "BUSQUEDA BINARIA CON WHILE DE 18 EN [11, 12, 14, 15, 16, 17, 18] ES 6\n"
     ]
    }
   ],
   "source": [
    "printfunc([11,12,14,15,16,17,18],18)"
   ]
  },
  {
   "cell_type": "code",
   "execution_count": 17,
   "metadata": {},
   "outputs": [
    {
     "name": "stdout",
     "output_type": "stream",
     "text": [
      "BUSQUEDA BINARIA CON RECURSIVIDAD DE 17 EN [11, 12, 14, 15, 16, 17, 18] ES 5\n",
      "BUSQUEDA BINARIA CON WHILE DE 17 EN [11, 12, 14, 15, 16, 17, 18] ES 5\n"
     ]
    }
   ],
   "source": [
    "printfunc([11,12,14,15,16,17,18],17)"
   ]
  }
 ],
 "metadata": {
  "kernelspec": {
   "display_name": "Python 3",
   "language": "python",
   "name": "python3"
  },
  "language_info": {
   "codemirror_mode": {
    "name": "ipython",
    "version": 3
   },
   "file_extension": ".py",
   "mimetype": "text/x-python",
   "name": "python",
   "nbconvert_exporter": "python",
   "pygments_lexer": "ipython3",
   "version": "3.8.6"
  }
 },
 "nbformat": 4,
 "nbformat_minor": 4
}
