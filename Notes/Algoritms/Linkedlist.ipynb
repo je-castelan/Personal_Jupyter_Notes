{
 "cells": [
  {
   "cell_type": "markdown",
   "metadata": {},
   "source": [
    "# LinkedList"
   ]
  },
  {
   "cell_type": "markdown",
   "metadata": {},
   "source": [
    "It's a linear data structure where the elements are not stored in contiguous order in memory."
   ]
  },
  {
   "cell_type": "markdown",
   "metadata": {},
   "source": [
    "Example:\n",
    "\n",
    "5 -> 1 -> 3 -> 7"
   ]
  },
  {
   "cell_type": "markdown",
   "metadata": {},
   "source": [
    "## Kind of linkedlist"
   ]
  },
  {
   "cell_type": "markdown",
   "metadata": {},
   "source": [
    " - Singly linkedlist: The sense of linked list is sigle\n",
    " 5 -> 1 -> 3 -> 7\n",
    " - Doubled linkedlist: There are both sense of link of every node\n",
    " 5 <-> 1 <-> 3 <-> 7"
   ]
  },
  {
   "cell_type": "markdown",
   "metadata": {},
   "source": [
    "## Linkedlist vs arraylist"
   ]
  },
  {
   "cell_type": "markdown",
   "metadata": {},
   "source": [
    "**Disadvantage**\n",
    "O(n) searching\n"
   ]
  },
  {
   "cell_type": "markdown",
   "metadata": {},
   "source": [
    "**Advantage**\n",
    "Insertion and deletion are cheaper"
   ]
  },
  {
   "cell_type": "markdown",
   "metadata": {},
   "source": [
    "## Implementing singly linkedlist"
   ]
  },
  {
   "cell_type": "markdown",
   "metadata": {},
   "source": [
    "We need to create the node with value and next node."
   ]
  },
  {
   "cell_type": "code",
   "execution_count": 2,
   "metadata": {},
   "outputs": [],
   "source": [
    "class Node:\n",
    "    def __init__(self, value, next):\n",
    "        self.value = value\n",
    "        self.next = next"
   ]
  },
  {
   "cell_type": "markdown",
   "metadata": {},
   "source": [
    "The, we can work with the Linkedlist"
   ]
  },
  {
   "cell_type": "code",
   "execution_count": 3,
   "metadata": {},
   "outputs": [],
   "source": [
    "class SingleLinkedList:\n",
    "    def __init__(self, head):\n",
    "        self.head = head\n",
    "    \n",
    "    def displayList(self):\n",
    "        pointer = self.head\n",
    "        listing = \"{}\".format(pointer.value)\n",
    "        while pointer.next:\n",
    "            pointer = pointer.next\n",
    "            listing += \" {}\".format(pointer.value)\n",
    "        return listing\n",
    "    \n",
    "    def insert(self, value, position):\n",
    "        x = 0\n",
    "        pointer = self.head\n",
    "        prev = None\n",
    "        while x < position:\n",
    "            x += 1\n",
    "            prev = pointer\n",
    "            pointer = pointer.next\n",
    "            if not pointer:\n",
    "                break\n",
    "        node = Node(value, pointer)\n",
    "        \n",
    "        if x == 0:\n",
    "            self.head = node\n",
    "        else:\n",
    "            prev.next = node\n",
    "        return True\n",
    "\n",
    "    def delete(self, key):\n",
    "        isHeader = True\n",
    "        pointer = self.head\n",
    "        while pointer.value != key:\n",
    "            prev = pointer\n",
    "            pointer = pointer.next\n",
    "            if not pointer:\n",
    "                return False\n",
    "            isHeader = False\n",
    "        if isHeader:\n",
    "            self.head = pointer.next\n",
    "        else:\n",
    "            prev.next = pointer.next\n",
    "        pointer = None\n",
    "        return True"
   ]
  },
  {
   "cell_type": "markdown",
   "metadata": {},
   "source": [
    "Let's create a list."
   ]
  },
  {
   "cell_type": "code",
   "execution_count": 10,
   "metadata": {},
   "outputs": [
    {
     "name": "stdout",
     "output_type": "stream",
     "text": [
      "List has values [3 5 7 9]\n"
     ]
    }
   ],
   "source": [
    "d = Node (9,None)\n",
    "c = Node (7, d)\n",
    "b = Node (5, c)\n",
    "a = Node (3, b)\n",
    "s = SingleLinkedList(a)\n",
    "print(\"List has values [{}]\".format(s.displayList()))"
   ]
  },
  {
   "cell_type": "markdown",
   "metadata": {},
   "source": [
    "We will check how it works. First, we will test inserts."
   ]
  },
  {
   "cell_type": "code",
   "execution_count": 11,
   "metadata": {},
   "outputs": [
    {
     "name": "stdout",
     "output_type": "stream",
     "text": [
      "List has values [3 5 6 7 9]\n",
      "List has values [3 5 6 7 9 10]\n",
      "List has values [2 3 5 6 7 9 10]\n",
      "List has values [1 2 3 5 6 7 9 10]\n"
     ]
    }
   ],
   "source": [
    "s.insert(6,2) # [3 5 6 7 9]\n",
    "print(\"List has values [{}]\".format(s.displayList()))\n",
    "s.insert(10,5) # [3 5 6 7 9 10]\n",
    "print(\"List has values [{}]\".format(s.displayList()))\n",
    "s.insert(2,0) # Adding on the beginning [2 3 5 6 7 9 10]\n",
    "print(\"List has values [{}]\".format(s.displayList()))\n",
    "s.insert(1,0) # Adding on the beginning [1 2 3 5 6 7 9 10]\n",
    "print(\"List has values [{}]\".format(s.displayList()))"
   ]
  },
  {
   "cell_type": "markdown",
   "metadata": {},
   "source": [
    "Then, we will remove elements"
   ]
  },
  {
   "cell_type": "code",
   "execution_count": 12,
   "metadata": {},
   "outputs": [
    {
     "name": "stdout",
     "output_type": "stream",
     "text": [
      "List has values [1 2 3 5 7 9 10]\n",
      "List has values [1 2 3 5 7 10]\n",
      "List has values [1 2 3 5 7 10]\n",
      "List has values [2 3 5 7 10]\n",
      "List has values [3 5 7 10]\n",
      "List has values [3 5 7 10]\n"
     ]
    }
   ],
   "source": [
    "s.delete(6) # [1 2 3 5 7 9 10]\n",
    "print(\"List has values [{}]\".format(s.displayList()))\n",
    "s.delete(9) # [1 2 3 5 7 10]\n",
    "print(\"List has values [{}]\".format(s.displayList()))\n",
    "s.delete(11) # It doesn't exist\n",
    "print(\"List has values [{}]\".format(s.displayList()))\n",
    "s.delete(1) # [2 3 5 7 10]\n",
    "print(\"List has values [{}]\".format(s.displayList()))\n",
    "s.delete(2) # [3 5 7 10]\"\n",
    "print(\"List has values [{}]\".format(s.displayList()))\n",
    "s.delete(1) # It doesn't exist\n",
    "print(\"List has values [{}]\".format(s.displayList()))\n"
   ]
  },
  {
   "cell_type": "markdown",
   "metadata": {},
   "source": [
    "## Implementing doubled linkedlist"
   ]
  },
  {
   "cell_type": "markdown",
   "metadata": {},
   "source": [
    "In this case, out node will have a prevoious node to assign on the node.\n",
    "I will set a printNode outpunt printing previous, next and value."
   ]
  },
  {
   "cell_type": "code",
   "execution_count": 30,
   "metadata": {},
   "outputs": [],
   "source": [
    "class Node:\n",
    "\n",
    "    def __init__(self, value):\n",
    "        \"\"\"\n",
    "        In this case, we will only asign values on the beginning\n",
    "        \"\"\"\n",
    "        self.value = value\n",
    "        self.next = None\n",
    "        self.prev = None\n",
    "\n",
    "    def printNode(self):\n",
    "        return \"{}[   {}   ]{}\".format(\"<-({})\".format(self.prev.value) if self.prev else \"\",self.value,\"({})->\".format(self.next.value) if self.next else \"\")"
   ]
  },
  {
   "cell_type": "markdown",
   "metadata": {},
   "source": [
    "In this case, we can create a linkedlist based with a array"
   ]
  },
  {
   "cell_type": "code",
   "execution_count": 31,
   "metadata": {},
   "outputs": [],
   "source": [
    "class DoubledLinkedList:\n",
    "    def __init__(self):\n",
    "        self.head = None\n",
    "        self.count = 0\n",
    "    \n",
    "    def create(self,arr):\n",
    "        \"\"\"\n",
    "        Based of an array, we will create the doubled linked list\n",
    "        \"\"\"\n",
    "        x = 0\n",
    "        prev = None\n",
    "        while x < len(arr):\n",
    "            node = Node(arr[x])\n",
    "            if x == 0:\n",
    "                self.head = node\n",
    "            else:\n",
    "                prev.next = node\n",
    "                node.prev = prev\n",
    "            prev = node\n",
    "            x += 1\n",
    "        self.count = x\n",
    "        return True\n",
    "    \n",
    "    def printList(self):\n",
    "        pointer = self.head\n",
    "        result = \"\"\n",
    "        while pointer:\n",
    "            result += pointer.printNode()\n",
    "            pointer = pointer.next\n",
    "        return result\n",
    "    \n",
    "    def printSize(self):\n",
    "        return self.count\n",
    "    \n",
    "    def insert(self, value, pos):\n",
    "        node = Node(value)\n",
    "        if pos <= self.count:\n",
    "            pointer = self.head\n",
    "            prev = None\n",
    "            x = 0\n",
    "            while x < pos:\n",
    "                prev = pointer\n",
    "                pointer = pointer.next\n",
    "                x += 1\n",
    "            if pointer:\n",
    "                pointer.prev = node\n",
    "            node.next = pointer\n",
    "            if x == 0:\n",
    "                self.head = node\n",
    "            else:\n",
    "                prev.next = node\n",
    "                node.prev = prev   \n",
    "            self.count += 1\n",
    "        return True\n",
    "    \n",
    "    def delete(self, index):\n",
    "        if index < self.count:\n",
    "            x = 0\n",
    "            pointer = self.head\n",
    "            prev = None\n",
    "            next = pointer.next\n",
    "            while x < index:\n",
    "                prev = pointer\n",
    "                pointer = pointer.next\n",
    "                next = pointer.next\n",
    "                x += 1\n",
    "            if next:\n",
    "                next.prev = prev\n",
    "            if x == 0:\n",
    "                self.head = next\n",
    "            else:\n",
    "                prev.next = next\n",
    "            pointer = None\n",
    "            self.count -= 1\n",
    "        return True"
   ]
  },
  {
   "cell_type": "markdown",
   "metadata": {},
   "source": [
    "Let's test it. First, we will create a list like this 2 <-> 4 <-> 9 <-> 11 <-> 16"
   ]
  },
  {
   "cell_type": "code",
   "execution_count": 37,
   "metadata": {},
   "outputs": [
    {
     "name": "stdout",
     "output_type": "stream",
     "text": [
      "List of 5 size -> [   2   ](4)-><-(2)[   4   ](9)-><-(4)[   9   ](11)-><-(9)[   11   ](16)-><-(11)[   16   ] \n"
     ]
    }
   ],
   "source": [
    "d = DoubledLinkedList()\n",
    "d.create([2,4,9,11,16])\n",
    "print(\"List of {} size -> {} \".format(d.printSize(),d.printList()))"
   ]
  },
  {
   "cell_type": "markdown",
   "metadata": {},
   "source": [
    "We will test the inserting."
   ]
  },
  {
   "cell_type": "code",
   "execution_count": 38,
   "metadata": {},
   "outputs": [
    {
     "name": "stdout",
     "output_type": "stream",
     "text": [
      "List of 6 size -> [   2   ](4)-><-(2)[   4   ](7)-><-(4)[   7   ](9)-><-(7)[   9   ](11)-><-(9)[   11   ](16)-><-(11)[   16   ] \n"
     ]
    }
   ],
   "source": [
    "d.insert(7,2) #2,4,7,9,11,16\n",
    "print(\"List of {} size -> {} \".format(d.printSize(),d.printList()))"
   ]
  },
  {
   "cell_type": "code",
   "execution_count": 39,
   "metadata": {},
   "outputs": [
    {
     "name": "stdout",
     "output_type": "stream",
     "text": [
      "List of 7 size -> [   1   ](2)-><-(1)[   2   ](4)-><-(2)[   4   ](7)-><-(4)[   7   ](9)-><-(7)[   9   ](11)-><-(9)[   11   ](16)-><-(11)[   16   ] \n"
     ]
    }
   ],
   "source": [
    "d.insert(1,0) #1,2,4,7,9,11,16\n",
    "print(\"List of {} size -> {} \".format(d.printSize(),d.printList()))\n"
   ]
  },
  {
   "cell_type": "code",
   "execution_count": 40,
   "metadata": {},
   "outputs": [
    {
     "name": "stdout",
     "output_type": "stream",
     "text": [
      "List of 8 size -> [   1   ](2)-><-(1)[   2   ](4)-><-(2)[   4   ](7)-><-(4)[   7   ](9)-><-(7)[   9   ](11)-><-(9)[   11   ](13)-><-(11)[   13   ](16)-><-(13)[   16   ] \n"
     ]
    }
   ],
   "source": [
    "d.insert(13,6) #1,2,4,7,9,11,13,16\n",
    "print(\"List of {} size -> {} \".format(d.printSize(),d.printList()))"
   ]
  },
  {
   "cell_type": "code",
   "execution_count": 41,
   "metadata": {},
   "outputs": [
    {
     "name": "stdout",
     "output_type": "stream",
     "text": [
      "List of 8 size -> [   1   ](2)-><-(1)[   2   ](4)-><-(2)[   4   ](7)-><-(4)[   7   ](9)-><-(7)[   9   ](11)-><-(9)[   11   ](13)-><-(11)[   13   ](16)-><-(13)[   16   ] \n"
     ]
    }
   ],
   "source": [
    "d.insert(17,9) #1,2,4,7,9,11,13,16 (8 is invalid)\n",
    "print(\"List of {} size -> {} \".format(d.printSize(),d.printList()))"
   ]
  },
  {
   "cell_type": "code",
   "execution_count": 42,
   "metadata": {},
   "outputs": [
    {
     "name": "stdout",
     "output_type": "stream",
     "text": [
      "List of 9 size -> [   1   ](2)-><-(1)[   2   ](4)-><-(2)[   4   ](7)-><-(4)[   7   ](9)-><-(7)[   9   ](11)-><-(9)[   11   ](13)-><-(11)[   13   ](16)-><-(13)[   16   ](17)-><-(16)[   17   ] \n"
     ]
    }
   ],
   "source": [
    "d.insert(17,8) #1,2,4,7,9,11,13,16,17\n",
    "print(\"List of {} size -> {} \".format(d.printSize(),d.printList()))"
   ]
  },
  {
   "cell_type": "markdown",
   "metadata": {},
   "source": [
    "Finally, we will check deletion."
   ]
  },
  {
   "cell_type": "code",
   "execution_count": 43,
   "metadata": {},
   "outputs": [
    {
     "name": "stdout",
     "output_type": "stream",
     "text": [
      "List of 8 size -> [   1   ](2)-><-(1)[   2   ](7)-><-(2)[   7   ](9)-><-(7)[   9   ](11)-><-(9)[   11   ](13)-><-(11)[   13   ](16)-><-(13)[   16   ](17)-><-(16)[   17   ] \n"
     ]
    }
   ],
   "source": [
    "d.delete(2) #1,2,7,9,11,13,16,17\n",
    "print(\"List of {} size -> {} \".format(d.printSize(),d.printList()))"
   ]
  },
  {
   "cell_type": "code",
   "execution_count": 44,
   "metadata": {},
   "outputs": [
    {
     "name": "stdout",
     "output_type": "stream",
     "text": [
      "List of 7 size -> [   1   ](2)-><-(1)[   2   ](7)-><-(2)[   7   ](9)-><-(7)[   9   ](13)-><-(9)[   13   ](16)-><-(13)[   16   ](17)-><-(16)[   17   ] \n"
     ]
    }
   ],
   "source": [
    "d.delete(4) #1,2,7,9,13,16,17\n",
    "print(\"List of {} size -> {} \".format(d.printSize(),d.printList()))"
   ]
  },
  {
   "cell_type": "code",
   "execution_count": 45,
   "metadata": {},
   "outputs": [
    {
     "name": "stdout",
     "output_type": "stream",
     "text": [
      "List of 6 size -> [   2   ](7)-><-(2)[   7   ](9)-><-(7)[   9   ](13)-><-(9)[   13   ](16)-><-(13)[   16   ](17)-><-(16)[   17   ] \n"
     ]
    }
   ],
   "source": [
    "d.delete(0) #2,7,9,13,16,17\n",
    "print(\"List of {} size -> {} \".format(d.printSize(),d.printList()))"
   ]
  },
  {
   "cell_type": "code",
   "execution_count": 46,
   "metadata": {},
   "outputs": [
    {
     "name": "stdout",
     "output_type": "stream",
     "text": [
      "List of 6 size -> [   2   ](7)-><-(2)[   7   ](9)-><-(7)[   9   ](13)-><-(9)[   13   ](16)-><-(13)[   16   ](17)-><-(16)[   17   ] \n"
     ]
    }
   ],
   "source": [
    "d.delete(6) #2,7,9,13,16,17 #invalid position\n",
    "print(\"List of {} size -> {} \".format(d.printSize(),d.printList()))"
   ]
  },
  {
   "cell_type": "code",
   "execution_count": 47,
   "metadata": {},
   "outputs": [
    {
     "name": "stdout",
     "output_type": "stream",
     "text": [
      "List of 5 size -> [   2   ](7)-><-(2)[   7   ](9)-><-(7)[   9   ](13)-><-(9)[   13   ](16)-><-(13)[   16   ] \n"
     ]
    }
   ],
   "source": [
    "d.delete(5) #2,7,9,13,16\n",
    "print(\"List of {} size -> {} \".format(d.printSize(),d.printList()))"
   ]
  },
  {
   "cell_type": "code",
   "execution_count": null,
   "metadata": {},
   "outputs": [],
   "source": []
  }
 ],
 "metadata": {
  "kernelspec": {
   "display_name": "Python 3",
   "language": "python",
   "name": "python3"
  },
  "language_info": {
   "codemirror_mode": {
    "name": "ipython",
    "version": 3
   },
   "file_extension": ".py",
   "mimetype": "text/x-python",
   "name": "python",
   "nbconvert_exporter": "python",
   "pygments_lexer": "ipython3",
   "version": "3.8.6"
  }
 },
 "nbformat": 4,
 "nbformat_minor": 4
}
