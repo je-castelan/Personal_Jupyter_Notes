{
 "cells": [
  {
   "cell_type": "markdown",
   "metadata": {},
   "source": [
    "# Mock"
   ]
  },
  {
   "cell_type": "markdown",
   "metadata": {},
   "source": [
    "Mocking is when you override the behavior of your dependencies of the code than tou are testing. We use mocking to avoid any unintended side effects and also to isolate the specific piece of code that we want to test.\n",
    "\n",
    "We don't have to depende our test from external resources. An example is to tests a send email function. We won't be sending real emails on testings. We only need to check than the function receives the correct paramenters.\n",
    "\n",
    "To implement mock, we need to import `patch` and `Mock` from `unittest.mock`."
   ]
  },
  {
   "cell_type": "code",
   "execution_count": 1,
   "metadata": {},
   "outputs": [],
   "source": [
    "from unittest.mock import patch, Mock"
   ]
  },
  {
   "cell_type": "markdown",
   "metadata": {},
   "source": [
    "We will create a function which return the dollar value."
   ]
  },
  {
   "cell_type": "code",
   "execution_count": 2,
   "metadata": {},
   "outputs": [],
   "source": [
    "def dollar():\n",
    "    return 25"
   ]
  },
  {
   "cell_type": "markdown",
   "metadata": {},
   "source": [
    "We will create a silly function, which multiply by 50 our dollar value."
   ]
  },
  {
   "cell_type": "code",
   "execution_count": 3,
   "metadata": {},
   "outputs": [],
   "source": [
    "def myfunct():\n",
    "    value = dollar()\n",
    "    return value * 10"
   ]
  },
  {
   "cell_type": "markdown",
   "metadata": {},
   "source": [
    "In \"production\", it will always return 250"
   ]
  },
  {
   "cell_type": "code",
   "execution_count": 4,
   "metadata": {},
   "outputs": [
    {
     "name": "stdout",
     "output_type": "stream",
     "text": [
      "250\n"
     ]
    }
   ],
   "source": [
    "print(myfunct())"
   ]
  },
  {
   "cell_type": "markdown",
   "metadata": {},
   "source": [
    "In a testing situation than we need to test other value. For example, if we want to test the dollar with value = 100."
   ]
  },
  {
   "cell_type": "code",
   "execution_count": 5,
   "metadata": {},
   "outputs": [],
   "source": [
    "dollar = Mock()\n",
    "dollar.return_value = 100"
   ]
  },
  {
   "cell_type": "code",
   "execution_count": 6,
   "metadata": {},
   "outputs": [
    {
     "name": "stdout",
     "output_type": "stream",
     "text": [
      "1000\n"
     ]
    }
   ],
   "source": [
    "print(myfunct())"
   ]
  },
  {
   "cell_type": "markdown",
   "metadata": {},
   "source": [
    "But, if we do this, the dollar function will always returns the patched value, so I recommend to use `patch` in `with` statement"
   ]
  },
  {
   "cell_type": "code",
   "execution_count": 7,
   "metadata": {},
   "outputs": [],
   "source": [
    "def dollar2():\n",
    "    return 25"
   ]
  },
  {
   "cell_type": "code",
   "execution_count": 8,
   "metadata": {},
   "outputs": [],
   "source": [
    "def myfunct2():\n",
    "    value = dollar2()\n",
    "    return value * 10"
   ]
  },
  {
   "cell_type": "code",
   "execution_count": 9,
   "metadata": {},
   "outputs": [
    {
     "name": "stdout",
     "output_type": "stream",
     "text": [
      "250\n"
     ]
    }
   ],
   "source": [
    "print(myfunct2())"
   ]
  },
  {
   "cell_type": "code",
   "execution_count": 10,
   "metadata": {},
   "outputs": [
    {
     "name": "stdout",
     "output_type": "stream",
     "text": [
      "1000\n"
     ]
    }
   ],
   "source": [
    "with patch('__main__.dollar2') as d2: # Note than patch requires the exactly location of your function\n",
    "    d2.return_value = 100\n",
    "    print(myfunct2())"
   ]
  },
  {
   "cell_type": "code",
   "execution_count": 11,
   "metadata": {},
   "outputs": [
    {
     "name": "stdout",
     "output_type": "stream",
     "text": [
      "250\n"
     ]
    }
   ],
   "source": [
    "print(myfunct2())"
   ]
  },
  {
   "cell_type": "markdown",
   "metadata": {},
   "source": [
    "You can test different values with `side_effect` function. Also you can see how many times is called a value with `call_count`"
   ]
  },
  {
   "cell_type": "code",
   "execution_count": 12,
   "metadata": {},
   "outputs": [
    {
     "name": "stdout",
     "output_type": "stream",
     "text": [
      "Function result is 50 with 1 values\n",
      "Function result is 100 with 2 values\n",
      "Function result is 150 with 3 values\n",
      "Function result is 200 with 4 values\n",
      "Function result is 250 with 5 values\n",
      "Function result is 500 with 6 values\n",
      "Function result is 1000 with 7 values\n",
      "Function result is 10000 with 8 values\n"
     ]
    }
   ],
   "source": [
    "values = [5,10,15,20,25,50,100,1000]\n",
    "with patch('__main__.dollar2') as d2: # Note than patch requires the exactly location of your function\n",
    "    d2.side_effect = values\n",
    "    print(\"Function result is {} with {} values\".format(myfunct2(), d2.call_count))\n",
    "    print(\"Function result is {} with {} values\".format(myfunct2(), d2.call_count))\n",
    "    print(\"Function result is {} with {} values\".format(myfunct2(), d2.call_count))\n",
    "    print(\"Function result is {} with {} values\".format(myfunct2(), d2.call_count))\n",
    "    print(\"Function result is {} with {} values\".format(myfunct2(), d2.call_count))\n",
    "    print(\"Function result is {} with {} values\".format(myfunct2(), d2.call_count))\n",
    "    print(\"Function result is {} with {} values\".format(myfunct2(), d2.call_count))\n",
    "    print(\"Function result is {} with {} values\".format(myfunct2(), d2.call_count))\n",
    "    "
   ]
  },
  {
   "cell_type": "code",
   "execution_count": 13,
   "metadata": {},
   "outputs": [],
   "source": [
    "def my_value():\n",
    "    return 1"
   ]
  },
  {
   "cell_type": "code",
   "execution_count": 14,
   "metadata": {},
   "outputs": [],
   "source": [
    "def sum_to_100():\n",
    "    sum = 0\n",
    "    while sum <= 100:\n",
    "        sum += my_value()\n",
    "    return sum"
   ]
  },
  {
   "cell_type": "code",
   "execution_count": 15,
   "metadata": {},
   "outputs": [
    {
     "name": "stdout",
     "output_type": "stream",
     "text": [
      "Function result is 110 with 11 values\n",
      "Function result is 104 with 37 values\n"
     ]
    }
   ],
   "source": [
    "with patch('__main__.my_value') as v:\n",
    "    v.return_value = 10\n",
    "    print(\"Function result is {} with {} values\".format(sum_to_100(), v.call_count))\n",
    "    v.return_value = 4\n",
    "    print(\"Function result is {} with {} values\".format(sum_to_100(), v.call_count))"
   ]
  },
  {
   "cell_type": "markdown",
   "metadata": {},
   "source": [
    "Othe way to patch is with a decorator. In this case, you add the `patch` decorator with the function to patch and the value to return. \n",
    "NOTE: On the function, you must add a parameter which receive the patch value (missing this, you will get an error)"
   ]
  },
  {
   "cell_type": "code",
   "execution_count": 16,
   "metadata": {},
   "outputs": [],
   "source": [
    "@patch('__main__.my_value', return_value=199)\n",
    "def sum_to_200(mv):\n",
    "    sum = 0\n",
    "    while sum <= 200:\n",
    "        sum += my_value()\n",
    "    return sum"
   ]
  },
  {
   "cell_type": "code",
   "execution_count": 17,
   "metadata": {},
   "outputs": [
    {
     "name": "stdout",
     "output_type": "stream",
     "text": [
      "398\n"
     ]
    }
   ],
   "source": [
    "print(sum_to_200())"
   ]
  }
 ],
 "metadata": {
  "kernelspec": {
   "display_name": "Python 3",
   "language": "python",
   "name": "python3"
  },
  "language_info": {
   "codemirror_mode": {
    "name": "ipython",
    "version": 3
   },
   "file_extension": ".py",
   "mimetype": "text/x-python",
   "name": "python",
   "nbconvert_exporter": "python",
   "pygments_lexer": "ipython3",
   "version": "3.8.6"
  }
 },
 "nbformat": 4,
 "nbformat_minor": 4
}
