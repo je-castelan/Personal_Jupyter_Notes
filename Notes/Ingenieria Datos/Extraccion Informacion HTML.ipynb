{
 "cells": [
  {
   "cell_type": "markdown",
   "metadata": {},
   "source": [
    "# Cómo trabajar con un documento HTML"
   ]
  },
  {
   "cell_type": "markdown",
   "metadata": {},
   "source": [
    "En el caso de Python la librería estándar para manipular los documentos HTML se llama **BeautifulSoup**.\n",
    "\n",
    "**BeautifulSoup** nos ayuda a organizar gramaticalmente (parsear) el documento HTML para que tengamos una estructura con la cual podamos manejar y extraer información. BeautifulSoup convierte el string de HTML en un árbol de nodos para poder manipularlo.\n",
    "\n",
    "Para manipularlo podemos usar los selectores CSS con soup.select()\n",
    "\n",
    "Para usarlo, necesitamos importarlo con bs4"
   ]
  },
  {
   "cell_type": "code",
   "execution_count": 8,
   "metadata": {},
   "outputs": [],
   "source": [
    "import bs4 #Librería BeautifulSoup\n",
    "import requests"
   ]
  },
  {
   "cell_type": "code",
   "execution_count": 2,
   "metadata": {},
   "outputs": [],
   "source": [
    "response = requests.get('http://www.facebook.com')"
   ]
  },
  {
   "cell_type": "markdown",
   "metadata": {},
   "source": [
    "A continación, así se comienza un parseo de una página"
   ]
  },
  {
   "cell_type": "code",
   "execution_count": 3,
   "metadata": {},
   "outputs": [],
   "source": [
    "soup = bs4.BeautifulSoup(response.text,'html.parser') #Parseo del response"
   ]
  },
  {
   "cell_type": "markdown",
   "metadata": {},
   "source": [
    "Con ellos podemos empezar a obtener información"
   ]
  },
  {
   "cell_type": "code",
   "execution_count": 9,
   "metadata": {},
   "outputs": [
    {
     "name": "stdout",
     "output_type": "stream",
     "text": [
      "Facebook - Inicia sesión o regístrate\n"
     ]
    }
   ],
   "source": [
    "print(soup.title.text) #Obtención del title"
   ]
  },
  {
   "cell_type": "code",
   "execution_count": 10,
   "metadata": {},
   "outputs": [
    {
     "name": "stdout",
     "output_type": "stream",
     "text": [
      "[<meta content=\"Crea una cuenta o inicia sesión en Facebook. Conéctate con amigos, familiares y otras personas que conozcas. Comparte fotos y videos, envía mensajes y...\" name=\"description\"/>]\n"
     ]
    }
   ],
   "source": [
    "print(soup.select('meta[name=description]')) #Selector de css en el head - OJO: ES UN LIST"
   ]
  },
  {
   "cell_type": "code",
   "execution_count": 12,
   "metadata": {},
   "outputs": [
    {
     "name": "stdout",
     "output_type": "stream",
     "text": [
      "<meta content=\"Crea una cuenta o inicia sesión en Facebook. Conéctate con amigos, familiares y otras personas que conozcas. Comparte fotos y videos, envía mensajes y...\" name=\"description\"/>\n"
     ]
    }
   ],
   "source": [
    "# Primer valor del la lista de descriptions. Esto ya es un objeto a obtener valores\n",
    "primerdescriptor = soup.select('meta[name=description]')[0]\n",
    "print(primerdescriptor) "
   ]
  },
  {
   "cell_type": "code",
   "execution_count": 13,
   "metadata": {},
   "outputs": [
    {
     "name": "stdout",
     "output_type": "stream",
     "text": [
      "Crea una cuenta o inicia sesión en Facebook. Conéctate con amigos, familiares y otras personas que conozcas. Comparte fotos y videos, envía mensajes y...\n"
     ]
    }
   ],
   "source": [
    "# El descriptor se puede ver que tiene un atributo llamado content\n",
    "print(primerdescriptor['content']) "
   ]
  },
  {
   "cell_type": "code",
   "execution_count": 20,
   "metadata": {},
   "outputs": [
    {
     "name": "stdout",
     "output_type": "stream",
     "text": [
      "/data/manifest/\n",
      "/osd.xml\n",
      "https://www.facebook.com/\n",
      "https://m.facebook.com/?locale2=es_LA\n",
      "https://m.facebook.com/?locale2=es_LA\n",
      "https://www.facebook.com/\n",
      "https://www.facebook.com/\n",
      "https://ar-ar.facebook.com/\n",
      "https://bg-bg.facebook.com/\n",
      "https://bs-ba.facebook.com/\n",
      "https://ca-es.facebook.com/\n",
      "https://da-dk.facebook.com/\n",
      "https://el-gr.facebook.com/\n",
      "https://es-la.facebook.com/\n",
      "https://es-es.facebook.com/\n",
      "https://fa-ir.facebook.com/\n",
      "https://fi-fi.facebook.com/\n",
      "https://fr-fr.facebook.com/\n",
      "https://fr-ca.facebook.com/\n",
      "https://hi-in.facebook.com/\n",
      "https://hr-hr.facebook.com/\n",
      "https://id-id.facebook.com/\n",
      "https://it-it.facebook.com/\n",
      "https://ko-kr.facebook.com/\n",
      "https://mk-mk.facebook.com/\n",
      "https://ms-my.facebook.com/\n",
      "https://pl-pl.facebook.com/\n",
      "https://pt-br.facebook.com/\n",
      "https://pt-pt.facebook.com/\n",
      "https://ro-ro.facebook.com/\n",
      "https://sl-si.facebook.com/\n",
      "https://sr-rs.facebook.com/\n",
      "https://th-th.facebook.com/\n",
      "https://vi-vn.facebook.com/\n",
      "https://static.xx.fbcdn.net/rsrc.php/yz/r/KFyVIAWzntM.ico\n",
      "https://static.xx.fbcdn.net/rsrc.php/v3/y1/l/0,cross/C1m5mfm8ESC.css?_nc_x=Ij3Wp8lg5Kz\n",
      "https://static.xx.fbcdn.net/rsrc.php/v3/yp/l/0,cross/9xRpau-vzI0.css?_nc_x=Ij3Wp8lg5Kz\n",
      "https://static.xx.fbcdn.net/rsrc.php/v3/ye/l/0,cross/AErRG2Txir5.css?_nc_x=Ij3Wp8lg5Kz\n",
      "https://static.xx.fbcdn.net/rsrc.php/v3/yS/l/0,cross/wU19orCkd0j.css?_nc_x=Ij3Wp8lg5Kz\n",
      "https://static.xx.fbcdn.net/rsrc.php/v3/y2/l/0,cross/4ygQ9HoYOFq.css?_nc_x=Ij3Wp8lg5Kz\n",
      "https://static.xx.fbcdn.net/rsrc.php/v3/yD/l/0,cross/4HqoOh_vJLx.css?_nc_x=Ij3Wp8lg5Kz\n",
      "https://static.xx.fbcdn.net/rsrc.php/v3/y6/l/0,cross/iWbQtMrJW8n.css?_nc_x=Ij3Wp8lg5Kz\n",
      "https://static.xx.fbcdn.net/rsrc.php/v3/yr/l/0,cross/_VIbxZgF9J3.css?_nc_x=Ij3Wp8lg5Kz\n",
      "https://static.xx.fbcdn.net/rsrc.php/v3/y1/l/0,cross/C1m5mfm8ESC.css?_nc_x=Ij3Wp8lg5Kz\n",
      "https://static.xx.fbcdn.net/rsrc.php/v3/yp/l/0,cross/9xRpau-vzI0.css?_nc_x=Ij3Wp8lg5Kz\n",
      "https://static.xx.fbcdn.net/rsrc.php/v3/ye/l/0,cross/AErRG2Txir5.css?_nc_x=Ij3Wp8lg5Kz\n",
      "https://static.xx.fbcdn.net/rsrc.php/v3/yS/l/0,cross/wU19orCkd0j.css?_nc_x=Ij3Wp8lg5Kz\n",
      "https://static.xx.fbcdn.net/rsrc.php/v3/y2/l/0,cross/4ygQ9HoYOFq.css?_nc_x=Ij3Wp8lg5Kz\n",
      "https://static.xx.fbcdn.net/rsrc.php/v3/yD/l/0,cross/4HqoOh_vJLx.css?_nc_x=Ij3Wp8lg5Kz\n",
      "https://static.xx.fbcdn.net/rsrc.php/v3/y3/r/5fIgB1pCcpO.js?_nc_x=Ij3Wp8lg5Kz\n",
      "https://static.xx.fbcdn.net/rsrc.php/v3/y3/r/AbOT5p4ORuR.js?_nc_x=Ij3Wp8lg5Kz\n",
      "https://static.xx.fbcdn.net/rsrc.php/v3/yn/r/C-zjtd-5Z-g.js?_nc_x=Ij3Wp8lg5Kz\n",
      "https://static.xx.fbcdn.net/rsrc.php/v3/yY/r/HBrYUyAqdfh.js?_nc_x=Ij3Wp8lg5Kz\n",
      "https://static.xx.fbcdn.net/rsrc.php/v3iG3Y4/yF/l/es_LA/xtfXtUGONXp.js?_nc_x=Ij3Wp8lg5Kz\n",
      "https://static.xx.fbcdn.net/rsrc.php/v3/y6/l/0,cross/iWbQtMrJW8n.css?_nc_x=Ij3Wp8lg5Kz\n",
      "https://static.xx.fbcdn.net/rsrc.php/v3/yr/l/0,cross/_VIbxZgF9J3.css?_nc_x=Ij3Wp8lg5Kz\n",
      "https://static.xx.fbcdn.net/rsrc.php/v3/y_/r/PKPArTT3shx.js?_nc_x=Ij3Wp8lg5Kz\n",
      "https://static.xx.fbcdn.net/rsrc.php/v3/yK/r/rBknu4ZJ2_H.js?_nc_x=Ij3Wp8lg5Kz\n"
     ]
    }
   ],
   "source": [
    "#Obtención de links (hay que analizar como están estructuradas inspeccionando la página)\n",
    "courses_links = soup.select('link') # Obtiene todos los objetos link\n",
    "courses = [course['href'] for course in courses_links] # De cada link obtiene el valor en el atributo href\n",
    "\n",
    "for course in courses:\n",
    "   print(course)\n",
    " "
   ]
  },
  {
   "cell_type": "code",
   "execution_count": null,
   "metadata": {},
   "outputs": [],
   "source": []
  }
 ],
 "metadata": {
  "kernelspec": {
   "display_name": "Python 3",
   "language": "python",
   "name": "python3"
  },
  "language_info": {
   "codemirror_mode": {
    "name": "ipython",
    "version": 3
   },
   "file_extension": ".py",
   "mimetype": "text/x-python",
   "name": "python",
   "nbconvert_exporter": "python",
   "pygments_lexer": "ipython3",
   "version": "3.8.6"
  }
 },
 "nbformat": 4,
 "nbformat_minor": 2
}
